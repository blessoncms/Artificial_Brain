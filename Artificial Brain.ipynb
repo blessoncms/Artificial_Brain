{
 "cells": [
  {
   "cell_type": "code",
   "execution_count": 1,
   "metadata": {},
   "outputs": [
    {
     "name": "stderr",
     "output_type": "stream",
     "text": [
      "/usr/anaconda3/lib/python3.6/site-packages/sklearn/cross_validation.py:44: DeprecationWarning: This module was deprecated in version 0.18 in favor of the model_selection module into which all the refactored classes and functions are moved. Also note that the interface of the new CV iterators are different from that of this module. This module will be removed in 0.20.\n",
      "  \"This module will be removed in 0.20.\", DeprecationWarning)\n"
     ]
    }
   ],
   "source": [
    "from sklearn.datasets import load_breast_cancer\n",
    "from sklearn.tree import DecisionTreeRegressor\n",
    "from sklearn import svm\n",
    "from sklearn.cross_validation import train_test_split\n",
    "from sklearn.metrics import r2_score,mean_squared_error\n",
    "import numpy as np\n",
    "from matplotlib import pyplot as plt\n",
    "from matplotlib.widgets import Slider, Button, RadioButtons\n",
    "from sklearn import linear_model\n",
    "from sklearn.kernel_ridge import KernelRidge"
   ]
  },
  {
   "cell_type": "code",
   "execution_count": 2,
   "metadata": {},
   "outputs": [
    {
     "name": "stdout",
     "output_type": "stream",
     "text": [
      "feature shape(intial): (569, 30)\n"
     ]
    }
   ],
   "source": [
    "features = load_breast_cancer().data\n",
    "print('feature shape(intial):',features.shape)"
   ]
  },
  {
   "cell_type": "code",
   "execution_count": 47,
   "metadata": {},
   "outputs": [],
   "source": [
    "inp_rows=[0]\n",
    "\n",
    "def next_finder(input,feat):\n",
    "    global fea\n",
    "    global imax\n",
    "    global y_row\n",
    "    imax=0\n",
    "    abs_new=0\n",
    "    x_train=np.reshape(np.asarray([features[j:j+1,1:]for j in input]),((len(input),29)))\n",
    "    y_train=np.asarray([features[j:j+1,0]for j in input])\n",
    "    y_train_max=np.max(features[:,0])\n",
    "    print('y values=',y_train)\n",
    "    print('y_train_max=',y_train_max)\n",
    "    y_row= [np.float(y_train[j]) for j in np.arange(len(y_train))]\n",
    "    print('y_row=',y_row)\n",
    "    model =linear_model.LinearRegression()\n",
    "    model.fit(x_train,y_train)\n",
    "    for i in range(1,feat.shape[0]):\n",
    "        x_test,y_test= (feat[i:i+1,1:],feat[i:i+1,0])\n",
    "        pred=model.predict(x_test)\n",
    "        absol=np.abs(y_test-pred)\n",
    "        #print(i,pred,absol)\n",
    "        if [i!=ij for ij in input]:\n",
    "            if (absol>abs_new and absol>2):\n",
    "                imax=i\n",
    "                abs_new=absol\n",
    "                y_test_ans=y_test\n",
    "    diff=[]            \n",
    "    for e in y_row:\n",
    "        diff.append(np.abs(y_test_ans-e))\n",
    "    print(diff)               \n",
    "            \n",
    "            \n",
    "    if np.any(diff)>5:\n",
    "        print('new class')\n",
    "    return(input.append(imax))\n",
    "        "
   ]
  },
  {
   "cell_type": "code",
   "execution_count": 48,
   "metadata": {},
   "outputs": [
    {
     "name": "stdout",
     "output_type": "stream",
     "text": [
      "y values= [[ 17.99]]\n",
      "y_train_max= 28.11\n",
      "y_row= [17.99]\n",
      "[array([ 11.009])]\n",
      "New input [0, 101]\n"
     ]
    }
   ],
   "source": [
    "next_finder(inp_rows,features)\n",
    "print('New input',inp_rows)\n"
   ]
  },
  {
   "cell_type": "code",
   "execution_count": 49,
   "metadata": {},
   "outputs": [
    {
     "name": "stdout",
     "output_type": "stream",
     "text": [
      "y values= [[ 17.99 ]\n",
      " [  6.981]]\n",
      "y_train_max= 28.11\n",
      "y_row= [17.99, 6.981]\n",
      "[array([ 2.74]), array([ 13.749])]\n",
      "New input [0, 101, 265]\n"
     ]
    }
   ],
   "source": [
    "next_finder(inp_rows,features)\n",
    "print('New input',inp_rows)\n"
   ]
  },
  {
   "cell_type": "code",
   "execution_count": 50,
   "metadata": {},
   "outputs": [
    {
     "name": "stdout",
     "output_type": "stream",
     "text": [
      "y values= [[ 17.99 ]\n",
      " [  6.981]\n",
      " [ 20.73 ]]\n",
      "y_train_max= 28.11\n",
      "y_row= [17.99, 6.981, 20.73]\n",
      "[array([ 10.12]), array([ 21.129]), array([ 7.38])]\n",
      "New input [0, 101, 265, 212]\n"
     ]
    }
   ],
   "source": [
    "next_finder(inp_rows,features)\n",
    "print('New input',inp_rows)"
   ]
  },
  {
   "cell_type": "code",
   "execution_count": 51,
   "metadata": {},
   "outputs": [
    {
     "name": "stdout",
     "output_type": "stream",
     "text": [
      "bad\n",
      "bad\n",
      "bad\n"
     ]
    }
   ],
   "source": [
    "for e in y_row:\n",
    "    if e>122:\n",
    "        print('good')\n",
    "    else:\n",
    "        print('bad')"
   ]
  },
  {
   "cell_type": "code",
   "execution_count": 52,
   "metadata": {},
   "outputs": [
    {
     "name": "stdout",
     "output_type": "stream",
     "text": [
      "y values= [[ 17.99 ]\n",
      " [  6.981]\n",
      " [ 20.73 ]\n",
      " [ 28.11 ]]\n",
      "y_train_max= 28.11\n",
      "y_row= [17.99, 6.981, 20.73, 28.11]\n",
      "[array([ 0.82]), array([ 11.829]), array([ 1.92]), array([ 9.3])]\n",
      "New input [0, 101, 265, 212, 277]\n"
     ]
    }
   ],
   "source": [
    "next_finder(inp_rows,features)\n",
    "print('New input',inp_rows)\n"
   ]
  },
  {
   "cell_type": "code",
   "execution_count": 53,
   "metadata": {},
   "outputs": [
    {
     "name": "stdout",
     "output_type": "stream",
     "text": [
      "y values= [[ 17.99 ]\n",
      " [  6.981]\n",
      " [ 20.73 ]\n",
      " [ 28.11 ]\n",
      " [ 18.81 ]]\n",
      "y_train_max= 28.11\n",
      "y_row= [17.99, 6.981, 20.73, 28.11, 18.81]\n",
      "[array([ 9.23]), array([ 20.239]), array([ 6.49]), array([ 0.89]), array([ 8.41])]\n",
      "New input [0, 101, 265, 212, 277, 180]\n"
     ]
    }
   ],
   "source": [
    "next_finder(inp_rows,features)\n",
    "print('New input',inp_rows)"
   ]
  },
  {
   "cell_type": "code",
   "execution_count": null,
   "metadata": {
    "collapsed": true
   },
   "outputs": [],
   "source": [
    "next_finder(inp_rows,features)\n",
    "print('New input',inp_rows)"
   ]
  },
  {
   "cell_type": "code",
   "execution_count": null,
   "metadata": {},
   "outputs": [],
   "source": [
    "np.int?"
   ]
  },
  {
   "cell_type": "code",
   "execution_count": 54,
   "metadata": {},
   "outputs": [],
   "source": [
    "np.any?"
   ]
  },
  {
   "cell_type": "code",
   "execution_count": null,
   "metadata": {
    "collapsed": true
   },
   "outputs": [],
   "source": []
  }
 ],
 "metadata": {
  "kernelspec": {
   "display_name": "Python 3",
   "language": "python",
   "name": "python3"
  },
  "language_info": {
   "codemirror_mode": {
    "name": "ipython",
    "version": 3
   },
   "file_extension": ".py",
   "mimetype": "text/x-python",
   "name": "python",
   "nbconvert_exporter": "python",
   "pygments_lexer": "ipython3",
   "version": "3.4.3"
  }
 },
 "nbformat": 4,
 "nbformat_minor": 2
}
